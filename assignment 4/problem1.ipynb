{
 "cells": [
  {
   "cell_type": "markdown",
   "metadata": {},
   "source": [
    "## problem 1"
   ]
  },
  {
   "cell_type": "code",
   "execution_count": 114,
   "metadata": {},
   "outputs": [],
   "source": [
    "my_file= open('test.text','w')\n",
    "for i in range(5):\n",
    "\n",
    "    my_file.write('Hello World! \\n')\n",
    "\n",
    "my_file.close()    "
   ]
  },
  {
   "cell_type": "code",
   "execution_count": 115,
   "metadata": {},
   "outputs": [
    {
     "name": "stdout",
     "output_type": "stream",
     "text": [
      "['Hello World! \\n', 'Hello World! \\n', 'Hello World! \\n', 'Hello World! \\n', 'Hello World! \\n']\n"
     ]
    }
   ],
   "source": [
    "my_file= open('test.text','r')\n",
    "lines=my_file.readlines()\n",
    "print(lines)\n",
    "my_file.close()  \n"
   ]
  },
  {
   "cell_type": "code",
   "execution_count": 116,
   "metadata": {},
   "outputs": [
    {
     "name": "stdout",
     "output_type": "stream",
     "text": [
      "HELLO WORLD! \n",
      "\n",
      "HELLO WORLD! \n",
      "\n",
      "HELLO WORLD! \n",
      "\n",
      "HELLO WORLD! \n",
      "\n",
      "HELLO WORLD! \n",
      "\n"
     ]
    }
   ],
   "source": [
    "for lines in open('test.text'):\n",
    "    print(lines.upper())\n",
    "    \n",
    "my_file.close()"
   ]
  },
  {
   "cell_type": "code",
   "execution_count": 120,
   "metadata": {},
   "outputs": [],
   "source": [
    "my_file=open('test.text','w+')\n",
    "\n",
    "lines=['HELLO WORLD\\n','HELLO WORLD\\n','HELLO WORLD\\n','HELLO WORLD\\n','HELLO WORLD\\n']\n",
    "\n",
    "my_file.writelines(lines)\n",
    "\n",
    "my_file.close()\n",
    "\n",
    "\n",
    "    \n"
   ]
  },
  {
   "cell_type": "code",
   "execution_count": 128,
   "metadata": {},
   "outputs": [],
   "source": [
    "my_file= open('test.text','r')\n",
    "my_lines = my_file.readlines()\n",
    "my_lines\n",
    "my_lines[3].lower()\n",
    "my_lines[3].capitalize()\n",
    "my_file.close()"
   ]
  },
  {
   "cell_type": "code",
   "execution_count": 129,
   "metadata": {},
   "outputs": [],
   "source": [
    "with open('test.text', 'a+') as my_file:\n",
    "    my_file.write('\\nI Love Python')\n"
   ]
  },
  {
   "cell_type": "markdown",
   "metadata": {},
   "source": [
    "## problem 2\n"
   ]
  },
  {
   "cell_type": "code",
   "execution_count": null,
   "metadata": {},
   "outputs": [],
   "source": []
  }
 ],
 "metadata": {
  "kernelspec": {
   "display_name": "Python 3",
   "language": "python",
   "name": "python3"
  },
  "language_info": {
   "codemirror_mode": {
    "name": "ipython",
    "version": 3
   },
   "file_extension": ".py",
   "mimetype": "text/x-python",
   "name": "python",
   "nbconvert_exporter": "python",
   "pygments_lexer": "ipython3",
   "version": "3.8.5"
  }
 },
 "nbformat": 4,
 "nbformat_minor": 4
}
